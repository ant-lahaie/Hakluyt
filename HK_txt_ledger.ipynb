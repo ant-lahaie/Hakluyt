{
 "cells": [
  {
   "cell_type": "markdown",
   "id": "77959a63",
   "metadata": {},
   "source": [
    "Using the CambridgeCore MacLehose pdfminer extracted text files (with hand-corrected dates), creates a CSV file tracking the metadata from the filenames (with an eye to adding more fields in the future, e.g., for genre of voyage / letter / testimony / etc)"
   ]
  },
  {
   "cell_type": "code",
   "execution_count": 16,
   "id": "d564071a",
   "metadata": {},
   "outputs": [],
   "source": [
    "# set working directory\n",
    "import os\n",
    "os.chdir('text-data/CambridgeCore MacLehose pdfminer extract')\n",
    "\n",
    "import csv"
   ]
  },
  {
   "cell_type": "markdown",
   "id": "ea1afe80",
   "metadata": {},
   "source": [
    "01_06_NNE-_0624_The_voyage_of_Bertus_into_Ireland_Anno_684_pp.010-010.pdf filename format for reference"
   ]
  },
  {
   "cell_type": "code",
   "execution_count": 20,
   "id": "ff815655",
   "metadata": {},
   "outputs": [],
   "source": [
    "# open the file in the write mode\n",
    "with open('ledger.csv', 'w', newline = '') as ledger:\n",
    "    \n",
    "    # create the csv writer\n",
    "    writer = csv.writer(ledger)\n",
    "    \n",
    "    # create header\n",
    "    writer.writerow(['vol', 'chap', 'geog', 'date', 'title', 'pages'])\n",
    "\n",
    "    filelist = os.scandir(os.getcwd())\n",
    "    for entry in filelist:\n",
    "        row = [entry.name[:2], entry.name[3:5], entry.name[6:10], entry.name[11:15], entry.name[16:-15], entry.name[-11:-4]]\n",
    "        #print(entry.name, '\\n', row)\n",
    "        # write a row to the csv file\n",
    "        writer.writerow(row)"
   ]
  }
 ],
 "metadata": {
  "kernelspec": {
   "display_name": "Python 3 (ipykernel)",
   "language": "python",
   "name": "python3"
  },
  "language_info": {
   "codemirror_mode": {
    "name": "ipython",
    "version": 3
   },
   "file_extension": ".py",
   "mimetype": "text/x-python",
   "name": "python",
   "nbconvert_exporter": "python",
   "pygments_lexer": "ipython3",
   "version": "3.9.5"
  }
 },
 "nbformat": 4,
 "nbformat_minor": 5
}
