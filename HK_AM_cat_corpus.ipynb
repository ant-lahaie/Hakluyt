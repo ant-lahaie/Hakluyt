{
 "cells": [
  {
   "cell_type": "code",
   "execution_count": 21,
   "id": "a240f1a4-2a3c-434b-9965-ed0c64e03195",
   "metadata": {
    "tags": []
   },
   "outputs": [],
   "source": [
    "#Using the CambridgeCore MacLehose pdfminer extracted text files (with hand-corrected dates), creates a CSV file tracking the metadata from the filenames (with an eye to adding more fields in the future, e.g., for genre of voyage / letter / testimony / etc)\n",
    "\n",
    "# set working directory\n",
    "import os\n",
    "os.chdir('text-data/CambridgeCore MacLehose pdfminer extract')\n",
    "import csv\n",
    "#01_06_NNE-_0624_The_voyage_of_Bertus_into_Ireland_Anno_684_pp.010-010.pdf filename format for reference\n",
    "# open the file in the write mode\n",
    "with open('ledger.csv', 'w', newline = '') as ledger:\n",
    "    \n",
    "    # create the csv writer\n",
    "    writer = csv.writer(ledger)\n",
    "    \n",
    "    # create header\n",
    "    writer.writerow(['vol', 'chap', 'geog', 'date', 'title', 'pages'])\n",
    "\n",
    "    filelist = os.scandir(os.getcwd())\n",
    "    for entry in filelist:\n",
    "        row = [entry.name[:2], entry.name[3:5], entry.name[6:10], entry.name[11:15], entry.name[16:-15], entry.name[-11:-4]]\n",
    "        #print(entry.name, '\\n', row)\n",
    "        # write a row to the csv file\n",
    "        writer.writerow(row)"
   ]
  },
  {
   "cell_type": "code",
   "execution_count": 21,
   "id": "c7497e62-2cac-4445-928f-6f4c2722b131",
   "metadata": {
    "tags": []
   },
   "outputs": [],
   "source": [
    "# creates cat_mod corpus with expl, enc, and nat fields encoded into filename\n",
    "# code below still misses a couple of files--but better than the initial version, which I apparently wrote to just catch enc/expl entries, and totally forgot about that filter\n",
    "old_path = 'text-data/CC_ML_FR_trimmed_MAlem_AMER_cat'\n",
    "new_path = 'text-data/CC_ML_FR_trimmed_MAlem_AMER_cat_mod'\n",
    "\n",
    "import csv\n",
    "import os\n",
    "import re\n",
    "\n",
    "\n",
    "with open('text-data/ledger_merged_2.csv', mode = 'r') as ledger_csv:\n",
    "    ledger = csv.DictReader(ledger_csv)\n",
    "    for row in ledger:\n",
    "        if row['geog'] == 'AMER':\n",
    "            filelist = os.scandir(old_path)\n",
    "            for entry in filelist:\n",
    "                #print('scanning' , entry.name)\n",
    "                #print ( 'condition checks: ', row['vol'].zfill(2), re.search(r'_(.*?)_', entry.name).group(1), row['vol'].zfill(2) == entry.name[:2], row['chap'] == re.search(r'_(.*?)_', entry.name).group(1))\n",
    "                if row['vol'].zfill(2) == entry.name[:2] and (row['chap'].zfill(2) == re.search(r'_(.*?)_', entry.name).group(1) or row['chap'].zfill(2) == re.search(r'_(.*?)_', entry.name).group(1)):\n",
    "                    #print(entry.name, 'passed')\n",
    "                    # find the relevant text file\n",
    "                    with open(entry.path, 'r', encoding=\"utf8\") as f:\n",
    "                        text = f.read()\n",
    "                        expl = 'expl_y' if row['expl'] == 'v' else 'expl_n'\n",
    "                        if row['enc'] == 'v' and row['expl'] != 'v':\n",
    "                            enc = 'enc_full'\n",
    "                        elif row['enc'] == 'v':\n",
    "                            enc = 'enc_part'\n",
    "                        elif row['enc_min'] == 'v':\n",
    "                            enc = 'enc_min'\n",
    "                        else:\n",
    "                            enc = 'enc_none'\n",
    "                        # determine name factors\n",
    "                        name = row['vol'].zfill(2) + '_' + row['chap'].zfill(2) + '-' + row['date'] + '-' + row['nat'] + '-' + enc + '-' + expl + '-' + row['title'] + '-' + row['pages'].replace('-', '_') + '.txt'\n",
    "                        # string formatted filename\n",
    "                        with open((new_path + '/' + name), 'w', encoding=\"utf8\") as fw:\n",
    "                            fw.write(text)\n",
    "                            #print('text outputted')\n",
    "                        #break"
   ]
  }
 ],
 "metadata": {
  "kernelspec": {
   "display_name": "Python 3 (ipykernel)",
   "language": "python",
   "name": "python3"
  },
  "language_info": {
   "codemirror_mode": {
    "name": "ipython",
    "version": 3
   },
   "file_extension": ".py",
   "mimetype": "text/x-python",
   "name": "python",
   "nbconvert_exporter": "python",
   "pygments_lexer": "ipython3",
   "version": "3.9.5"
  }
 },
 "nbformat": 4,
 "nbformat_minor": 5
}
