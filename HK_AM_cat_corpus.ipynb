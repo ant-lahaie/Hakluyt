{
 "cells": [
  {
   "cell_type": "markdown",
   "id": "1d608ecc-fc80-4655-b5fb-aab562568f07",
   "metadata": {},
   "source": [
    "Encodes Am tags from ledger into filenames\n",
    "\n",
    "only include expl and/or enc tagged\n",
    "\n",
    "name format:\n",
    "\n",
    "vol_chap-date-nat-enc-expl-title-pagerange\n",
    "enc_full enc_part enc_min enc_none\n",
    "expl_y expl_n\n",
    "\n",
    "underscores within features, dashes between features\n",
    "\n",
    "for entry in ledger:\n",
    "    if enc OR expl:\n",
    "        locate file by vol-chap\n",
    "        save file in new dir with new name"
   ]
  },
  {
   "cell_type": "code",
   "execution_count": 45,
   "id": "3fe0ee12-60ae-4b73-b8cb-56bc680f7e64",
   "metadata": {
    "tags": []
   },
   "outputs": [],
   "source": [
    "old_path = 'text-data/CC_ML_FR_trimmed_MAlem_AMER_cat/'\n",
    "new_path = 'text-data/CC_ML_FR_trimmed_MAlem_AMER_cat_mod/'\n",
    "\n",
    "import csv\n",
    "import os\n",
    "import re\n",
    "\n",
    "\n",
    "with open('text-data/AMledger.csv', mode = 'r') as ledger_csv:\n",
    "    ledger = csv.DictReader(ledger_csv)\n",
    "    for row in ledger:\n",
    "        #print('starting row')\n",
    "        if 'v' in row['expl'] or 'v' in row['enc'] or 'v' in row['enc_min']:\n",
    "            #print('row of interest')\n",
    "            # if entry addresses travel or cultural encounter:\n",
    "            filelist = os.scandir(old_path)\n",
    "            for entry in filelist:\n",
    "                #print('scanning' , entry.name)\n",
    "                #print ( 'condition checks: ', row['vol'].zfill(2), re.search(r'_(.*?)_', entry.name).group(1), row['vol'].zfill(2) == entry.name[:2], row['chap'] == re.search(r'_(.*?)_', entry.name).group(1))\n",
    "                if row['vol'].zfill(2) == entry.name[:2] and (row['chap'].zfill(2) == str(float(re.search(r'_(.*?)_', entry.name).group(1))) or row['chap'].zfill(2) == re.search(r'_(.*?)_', entry.name).group(1)):\n",
    "                    #print(entry.name, 'passed')\n",
    "                    # find the relevant text file\n",
    "                    with open(entry.path, 'r', encoding=\"utf8\") as f:\n",
    "                        text = f.read()\n",
    "                        expl = 'expl_y' if row['expl'] == 'v' else 'expl_n'\n",
    "                        if row['enc'] == 'v' and row['expl'] != 'v':\n",
    "                            enc = 'enc_full'\n",
    "                        elif row['enc'] == 'v':\n",
    "                            enc = 'enc_part'\n",
    "                        elif row['enc_min'] == 'v':\n",
    "                            enc = 'enc_min'\n",
    "                        else:\n",
    "                            enc = 'enc_none'\n",
    "                        # determine name factors\n",
    "                        name = row['vol'].zfill(2) + '_' + row['chap'].zfill(2) + '-' + row['date'] + '-' + row['nat'] + '-' + enc + '-' + expl + '-' + row['title'] + '-' + row['pages'].replace('-', '_') + '.txt'\n",
    "                        # string formatted filename\n",
    "                        with open((new_path + '/' + name), 'w', encoding=\"utf8\") as fw:\n",
    "                            fw.write(text)\n",
    "                            #print('text outputted')\n",
    "                    #break\n",
    "                            \n",
    "                            "
   ]
  },
  {
   "cell_type": "code",
   "execution_count": null,
   "id": "1095e9a4-2f3c-4eaf-b2c4-5020afcde652",
   "metadata": {
    "tags": []
   },
   "outputs": [],
   "source": [
    "if row['vol'].zfill(2) == entry.name[:2] and row['chap'].zfill(2) == re.search(r'_(.*?)_', entry.name).group(1):"
   ]
  },
  {
   "cell_type": "code",
   "execution_count": 41,
   "id": "475f60cb-013d-4a14-8d8d-e277c498dbc8",
   "metadata": {},
   "outputs": [
    {
     "name": "stdout",
     "output_type": "stream",
     "text": [
      "1.1\n"
     ]
    }
   ],
   "source": [
    "test = '09_01.1_AMER_1564_The_voiage_of_captaine_Rene_Laudonniere_to_Florida_1564_where_he_fortified_and_inhabited_two_summers_pp.001-035'\n",
    "print(str(float(re.search(r'_(.*?)_', test).group(1))))\n",
    "#\"1.1\".zfill(2)\n",
    "\n"
   ]
  }
 ],
 "metadata": {
  "kernelspec": {
   "display_name": "Python 3 (ipykernel)",
   "language": "python",
   "name": "python3"
  },
  "language_info": {
   "codemirror_mode": {
    "name": "ipython",
    "version": 3
   },
   "file_extension": ".py",
   "mimetype": "text/x-python",
   "name": "python",
   "nbconvert_exporter": "python",
   "pygments_lexer": "ipython3",
   "version": "3.9.5"
  }
 },
 "nbformat": 4,
 "nbformat_minor": 5
}
