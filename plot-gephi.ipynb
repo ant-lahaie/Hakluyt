{
 "cells": [
  {
   "cell_type": "code",
   "execution_count": 2,
   "id": "644fe82c-9584-4eed-b6d8-569e4969e0e0",
   "metadata": {},
   "outputs": [],
   "source": [
    "import nltk\n",
    "from nltk.corpus import PlaintextCorpusReader\n",
    "from nltk.text import TextCollection\n",
    "from nltk.corpus import CategorizedPlaintextCorpusReader\n",
    "\n",
    "import os\n",
    "import re\n",
    "\n",
    "from nltk.corpus import stopwords\n",
    "\n",
    "eliz_stopwords = [\"i\",  \"me\",  \"my\",  \"myself\",  \"we\",  \"our\",  \"ours\",  \"ourselves\",  \"you\",  \"your\",  \"yours\",  \"yourself\",  \"yourselves\",  \"he\",  \"him\",  \"his\",  \"himself\",  \"she\",  \"her\",  \"hers\",  \"herself\",  \"it\",  \"its\",  \"itself\",  \"they\",  \"them\",  \"their\",  \"theirs\",  \"themselves\",  \"what\",  \"which\",  \"who\",  \"whom\",  \"this\",  \"that\",  \"these\",  \"those\",  \"am\",  \"is\",  \"are\",  \"was\",  \"were\",  \"be\",  \"been\",  \"being\",  \"have\",  \"has\",  \"had\",  \"having\",  \"do\",  \"does\",  \"did\",  \"doing\",  \"a\",  \"an\",  \"the\",  \"and\",  \"but\",  \"if\",  \"or\",  \"because\",  \"as\",  \"until\",  \"while\",  \"of\",  \"at\",  \"by\",  \"for\",  \"with\",  \"about\",  \"against\",  \"between\",  \"into\",  \"through\",  \"during\",  \"before\",  \"after\",  \"above\",  \"below\",  \"to\",  \"from\",  \"up\",  \"down\",  \"in\",  \"out\",  \"o\",  \"on\",  \"off\",  \"over\",  \"under\",  \"again\",  \"further\",  \"then\",  \"once\",  \"here\",  \"there\",  \"when\",  \"where\",  \"why\",  \"how\",  \"all\",  \"any\",  \"both\",  \"each\",  \"few\",  \"more\",  \"most\",  \"other\",  \"some\",  \"such\",  \"no\",  \"nor\",  \"not\",  \"only\",  \"own\",  \"same\",  \"so\",  \"than\",  \"too\",  \"very\",  \"can\",  \"will\",  \"just\",  \"should\",  \"now\",  \"art\", \"doth\", \"dost\", \"'ere\", \"hast\", \"hath\", \"hence\", \"hither\", \"nigh\", \"oft\", \"should'st\", \"thither\", \"thee\", \"thou\", \"thine\", \"thy\", \"'tis\", \"'twas\", \"wast\", \"whence\", \"wherefore\", \"whereto\", \"withal\", \"would'st\", \"ye\", \"yon\", \"yonder\"]\n",
    "hk_stopwords = ['unto','u','one', 'five','upon','de','also','wee','two','may','many','would','shall','hee','like','three','doe','could','much','every','againe','bee','might','without','well','within','yet','bene','ad','foure','another','whereof','thereof','onely','next','himselfe','thus','hundred','untill','therefore','halfe','cum','selfe','non','ut', 'whole','little','sixe','full','neither','among','last','c','never','la','qui','ii','according','eight','whose','either','per','along','item','al','likewise','mee','whereupon','none','till','able','thousand','self','el','second','que','mine','quae','sunt','et','seven','iii','although','litle','si','notwithstanding','besides','etiam','lesse','e','even','vel','alwayes', 'third','ever','rather','whether','still','otherwise','large','amongst', 'greater','somewhat','ex','least','aforesaid','though','whatsoever','quam', 'ten','whereby','foorth','no', 'n','los','almost','twelve','howbeit','j', 'greatly','ac','yce', 'pro','en','ab','greatest','whereas','hoc','w','beene','doeth','eorum','con','withall','hereafter','moreover','nec','nine','noone','omnes','del','enim','often']\n",
    "latin_stopwords = ['ab', 'ac', 'ad', 'adhuc', 'aliqui', 'aliquis', 'an', 'ante', 'apud', 'at', 'atque', 'aut', 'autem', 'cum', 'cur', 'de', 'deinde', 'dum', 'ego', 'enim', 'ergo', 'es', 'est', 'et', 'etiam', 'etsi', 'ex', 'fio', 'haud', 'hic', 'iam', 'idem', 'igitur', 'ille', 'in', 'infra', 'inter', 'interim', 'ipse', 'is', 'ita', 'magis', 'modo', 'mox', 'nam', 'ne', 'nec', 'necque', 'neque', 'nisi', 'non', 'nos', 'o', 'ob', 'per', 'possum', 'post', 'pro', 'quae', 'quam', 'quare', 'qui', 'quia', 'quicumque', 'quidem', 'quilibet', 'quis', 'quisnam', 'quisquam', 'quisque', 'quisquis', 'quo', 'quoniam', 'sed', 'si', 'sic', 'sive', 'sub', 'sui', 'sum', 'super', 'suus', 'tam', 'tamen', 'trans', 'tu', 'tum', 'ubi', 'uel', 'uero']\n",
    "pronouns = ['i', 'you', 'he', 'she', 'it', 'we', 'you', 'they', 'me', 'you', 'him', 'her', 'it', 'you', 'us', 'them', 'my', 'your', 'his', 'her', 'its', 'our', 'your', 'their', 'mine', 'yours', 'his', 'hers', 'its', 'ours', 'yours', 'theirs', 'myself', 'yourself', 'himself', 'herself', 'itself', 'ourselves', 'yourselves', 'themselves']\n",
    "modals = ['shall','shal','shalt','should', 'can', \"can't\", 'cannot', 'could', 'will','wil', 'would', 'may', 'must', 'might', 'ought', 'need', 'have', 'has']\n",
    "directives = ['without', 'within', 'there', 'thence','away','est','towards','toward','farre','betweene','wherein','therein']\n",
    "stop_words = set(stopwords.words('english') + latin_stopwords + eliz_stopwords + hk_stopwords + ['']) - set(pronouns + modals + directives)\n",
    "stop_words_max = set(stopwords.words('english') + latin_stopwords + eliz_stopwords + hk_stopwords + [''] + pronouns + modals + directives + ['great', 'make', 'good', 'part', 'certain', 'thing'])\n",
    "\n",
    "# violence flags for pandas conditional formatting\n",
    "viol_flags = ['violence', 'harm', 'injury', 'injure', 'hurt', 'damage', 'scathe', 'wound', 'fight', 'battle', 'scrap', 'struggle', 'conflict', 'shoot', 'blast', 'burn', 'fire', 'kill', 'death', 'slay', 'murder', 'hit', 'mutilate', 'cut', 'mangle', 'enemy', 'foe', 'imprison', 'gaol', 'prisoner', 'captive', 'capture', 'war', 'army', 'soldier', 'pain', 'agony', 'torture', 'torment', 'wound', 'gash', 'abuse', 'destroy', 'ruin', 'bruise', 'attack', 'assault', 'skirmish', 'melee', 'brawl', 'combat', 'wrestle', 'hostile', 'siege', 'blaze', 'assassinate', 'massacre', 'slaughter', 'butcher', 'destroy', 'slaughter', 'maim', 'cripple', 'detain', 'blood', 'bloodshed', 'gash', 'arrow', 'musket', 'culiver', 'gun', 'piece', 'peece', 'caliver', 'caleever', 'culverin', 'colverine', 'colvering', 'conquer']\n",
    "# 'die' is filtered out on account of dyes"
   ]
  },
  {
   "cell_type": "code",
   "execution_count": 3,
   "id": "4e3452a7-75e8-43ce-8b68-b1ea8226ad1b",
   "metadata": {},
   "outputs": [
    {
     "name": "stdout",
     "output_type": "stream",
     "text": [
      "violence |harm |injury |injure |hurt |damage |scathe |wound |fight |battle |scrap |struggle |conflict |shoot |blast |burn |fire |kill |death |slay |murder |hit |mutilate |cut |mangle |enemy |foe |imprison |gaol |prisoner |captive |capture |war |army |soldier |pain |agony |torture |torment |wound |gash |abuse |destroy |ruin |bruise |attack |assault |skirmish |melee |brawl |combat |wrestle |hostile |siege |blaze |assassinate |massacre |slaughter |butcher |destroy |slaughter |maim |cripple |detain |blood |bloodshed |gash |arrow |musket |culiver |gun |piece |peece |caliver |caleever |culverin |colverine |colvering |conquer |"
     ]
    }
   ],
   "source": [
    "#create a formatted filter:\n",
    "for v in viol_flags:\n",
    "    print(v,'|', end = '')"
   ]
  },
  {
   "cell_type": "code",
   "execution_count": 8,
   "id": "89068963-c437-480c-af07-b0eef880a99f",
   "metadata": {},
   "outputs": [],
   "source": [
    "# unfiltered corpuses\n",
    "corpus_root = 'text-data/Cambridge_MacLehose_FineReader_OCR_trimmed'\n",
    "hakluyt = PlaintextCorpusReader(corpus_root, '.*')\n",
    "hakluyt_col = TextCollection(hakluyt)\n",
    "\n",
    "#select stopword threshold\n",
    "#stop_words_enc = []\n",
    "stop_words_enc = stop_words_max\n",
    "#stop_words_enc = stop_words\n",
    "AM_cat_root = 'text-data/CC_ML_FR_trimmed_MAlem_AMER_cat_mod/'\n",
    "#setup expl&enc-tagged categorized corpus - working, if not the most efficient solution via catmap rather than pattern\n",
    "\n",
    "filelist = os.listdir(AM_cat_root)\n",
    "fileid_cat = {}\n",
    "for file in filelist:\n",
    "    fileid_cat[file] = re.findall(r'(expl_y|expl_n|enc_full|enc_part|enc_min|enc_none)', file)\n",
    "hakluyt_AM_cat = CategorizedPlaintextCorpusReader(AM_cat_root, '.*', cat_map = fileid_cat)\n",
    "\n",
    "#print('list of categories: ', hakluyt_AM_cat.categories(), 'number of files: ', len(hakluyt_AM_cat.fileids()))\n",
    "\n",
    "hakluyt_AM_cat_enc_fd = nltk.ConditionalFreqDist((enc, word)\n",
    "                                                 for enc in ['enc_full', 'enc_min', 'enc_none', 'enc_part']\n",
    "                                                 for word in hakluyt_AM_cat.words(categories = enc)\n",
    "                                                if word.isalpha() and word not in stop_words_enc)\n",
    "\n",
    "# plaintext corpus for just full/part enc\n",
    "AM_cat_enc_root = 'text-data/CC_ML_FR_trimmed_MAlem_AMER_cat_mod_enc_full_part/'\n",
    "\n",
    "hakluyt_AM_enc_part_full = PlaintextCorpusReader(AM_cat_root, r'.*(enc_full|enc_part).*')\n",
    "hakluyt_AM_enc_part_full_fd = nltk.FreqDist(word for word in hakluyt_AM_enc_part_full.words() if word.isalpha() and word not in stop_words_enc)\n",
    "\n",
    "#plaintext corpus for AMER total\n",
    "AMER_root = 'text-data/CC_ML_FR_trimmed_morphad_lem_AMER/'\n",
    "\n",
    "hakluyt_AMER = PlaintextCorpusReader(AMER_root, '.*')\n",
    "hakluyt_AMER_fd = nltk.FreqDist(word for word in hakluyt_AMER.words() if word.isalpha() and word not in stop_words_enc)\n",
    "\n",
    "AMER_col = TextCollection(hakluyt_AMER)\n",
    "enc_full_col = TextCollection(hakluyt_AM_cat.categories('enc_full'))\n",
    "enc_sig_col = TextCollection(hakluyt_AM_enc_part_full)"
   ]
  },
  {
   "cell_type": "markdown",
   "id": "85621079-3a6c-44bd-853e-6647b163b690",
   "metadata": {
    "tags": []
   },
   "source": [
    "Build one-file corpuses for total & AMER for textplot"
   ]
  },
  {
   "cell_type": "code",
   "execution_count": 49,
   "id": "69731fc6-04e3-49db-869c-139688d58712",
   "metadata": {
    "tags": []
   },
   "outputs": [],
   "source": [
    "in_path = 'text-data/CC_ML_FR_trimmed_morphad_lem/'\n",
    "out_path = 'Gephi/'\n",
    "\n",
    "filelist = os.scandir(in_path)\n",
    "for entry in filelist:\n",
    "    with open(entry.path, 'r', encoding=\"utf8\") as chapter:\n",
    "        with open((out_path + '/' + 'Hakluyt_all'), 'a', encoding=\"utf8\") as text_dump:\n",
    "            text_dump.write(chapter.read())"
   ]
  },
  {
   "cell_type": "code",
   "execution_count": null,
   "id": "81dcb594-6cfd-4ec0-916d-6edb9ffcfdb3",
   "metadata": {
    "tags": []
   },
   "outputs": [],
   "source": [
    "in_path = 'text-data/CC_ML_FR_trimmed_morphad_lem_AMER/'\n",
    "out_path = 'Gephi/'\n",
    "\n",
    "filelist = os.scandir(in_path)\n",
    "for entry in filelist:\n",
    "    with open(entry.path, 'r', encoding=\"utf8\") as chapter:\n",
    "        with open((out_path + '/' + 'Hakluyt_AMER.txt'), 'a', encoding=\"utf8\") as text_dump:\n",
    "            text_dump.write(chapter.read())"
   ]
  },
  {
   "cell_type": "code",
   "execution_count": null,
   "id": "73f3d5e9-fc82-4a6c-8405-feccc5f1e363",
   "metadata": {},
   "outputs": [],
   "source": [
    "in_path = 'text-data/CC_ML_FR_trimmed_MAlem_AMER_cat_mod_enc_full_part/'\n",
    "out_path = 'Gephi/'\n",
    "\n",
    "filelist = os.scandir(in_path)\n",
    "for entry in filelist:\n",
    "    with open(entry.path, 'r', encoding=\"utf8\") as chapter:\n",
    "        with open((out_path + '/' + 'Hakluyt_AMER_enc.txt'), 'a', encoding=\"utf8\") as text_dump:\n",
    "            text_dump.write(chapter.read())"
   ]
  },
  {
   "cell_type": "code",
   "execution_count": 38,
   "id": "bef6e032-6f56-44f0-a28a-864fb8d739ba",
   "metadata": {},
   "outputs": [
    {
     "name": "stdout",
     "output_type": "stream",
     "text": [
      "Help on function build_graph in module textplot.helpers:\n",
      "\n",
      "build_graph(path, term_depth=500, skim_depth=10, d_weights=False, **kwargs)\n",
      "    Tokenize a text, index a term matrix, and build out a graph.\n",
      "    \n",
      "    Args:\n",
      "        path (str): The file path.\n",
      "        term_depth (int): Consider the N most frequent terms.\n",
      "        skim_depth (int): Connect each word to the N closest siblings.\n",
      "        d_weights (bool): If true, give \"close\" nodes low weights.\n",
      "    \n",
      "    Returns:\n",
      "        Skimmer: The indexed graph.\n",
      "\n",
      "\n",
      "Tokenizing text...\n",
      "Extracted 364918 tokens\n",
      "\n",
      "Indexing terms:\n",
      "\n",
      "Generating graph:\n"
     ]
    }
   ],
   "source": [
    "from textplot.helpers import build_graph\n",
    "help(build_graph)\n",
    "g = build_graph('Gephi/Hakluyt_AMER_enc.txt', term_depth=500, skim_depth = 5)\n",
    "\n",
    "import networkx as nx\n",
    "#nx.draw(g.graph, with_labels=True)\n",
    "nx.write_gml(g.graph,'Gephi/Hakluyt_AMER_enc_500_5.gml')"
   ]
  },
  {
   "cell_type": "code",
   "execution_count": 31,
   "id": "6d131c1a-e5f5-4c6f-b49d-8f064b50e955",
   "metadata": {},
   "outputs": [
    {
     "name": "stdout",
     "output_type": "stream",
     "text": [
      "Displaying 100 of 769 matches:\n",
      "ez de Gomara a Spaniard , in the four chapter of the second book of he generali history of the west Indies concern the first discovery of a great part\n",
      "montanus , Petrus martyr , and also Ortelius , who do coast out in his generali map set out anno 1569 , all the country and cape , on the northwest si\n",
      "nst this former conclusion . the first objection be of no force , that generali table sol i . of the world set forth by Ortelius or Mercator , for it \n",
      " , with his globe , with Sebastian Cabota his table , and Ortelius his generali map alone , worthy prefer in this case before all Mercator and Orteliu\n",
      "tland , where we make provision of fresh water ; in the do whereof our generali license the gentleman and soldier for their recreation , to go on shor\n",
      " country , that those that will land there , incur great danger . Oure generali 3 . day together attempt with the ship boat to have go on shore , whic\n",
      " the 16 . of the same , we come with the make of land , which land our generali the year before have name the queen foreland , be a island as we judge\n",
      " entrance or strait , call Frobishers straight , after the name of our generali , the first finder thereof . This strni say straight be suppose to hav\n",
      "f ice , which give no little cause of discomfort unto we all : but our generali , ( to who captain fn - diligence imminent danger , and difficult atte\n",
      "nge shriek and cry , which give no little admiration to our man . Oure generali desirous to allure they unto he by fair mean , cause knife , and other\n",
      "same . at the length two of they leave their weapon , come down to our generali and master , who do the like to they , command the company to stay , a\n",
      "t diverse of they : we take the one , and the other escape . while our generali be busy in search the country , and those island adjacent on the easts\n",
      "anger among these monstrous island of ice , we shall have lose our 216 generali and master , and the most of our best sailor , which be on the shore d\n",
      "ety , run into the sea , to the destrue - andrewdier . cion of our say generali , and his company . the day follow , be the 19 of Julie , our captain \n",
      "diment , on the 19 of Julie we enter they , and the 20 . thereof , our generali and master with great diligence , seek out and sound the west shore , \n",
      "isitation . at our first arrival , after the ship ride at anchor , our generali , with such company as can well be spare from the ship , in march orde\n",
      " praise and commendation . Theise thing in this order accomplish , our generali command all the company to be obedient in thing needful for our own sa\n",
      "and with force of oar to hale they away , for endanger the ship . Oure generali certain day search this suppose continent with America , and not find \n",
      "virtue whereof we suppose it to be the sea unicorn . u \" * - after our generali have find out good harbour for corn it the ship and bark to anchor in \n",
      "e conduct and lead of master master Phil - Philpot , ( unto who in our generali he absence , and his lieutenant master beast , all the rest be obedien\n",
      "ome of 219 they , and so attain to some knowledge of those man who our generali lose the year before . at our come back again to the place where their\n",
      "e have anchor there 13 . day : and so ' the 4 . thereof we come to our generali on the east shore , and anchor in a fair harbour name anne warwick ' s\n",
      "e countesseof Warwick , anne Warwick sound and isle . in this isle our generali thought good for this - voyage , to fraught both the ship and bark , w\n",
      "ime on the main shore , near adjacent to the say unt0 we . isle . Oure generali desirous to have some news of his man , who he lose the year before , \n",
      "hey may perceive a company of the crafty villain to lie lurk , who our generali will not deal withal , for that he know not what company they be , and\n",
      " sign dismiss they and return to his company . a other time as our say generali be coast the country with two little pinnace , whereby at our return h\n",
      "ar , but that one of we may make our party good with a lame man . Oure generali have compassion of his impotency , compassion to thought good ( if it \n",
      " lurk hole , with their weapon , bow , arrow , sling , and dart . Oure generali cause some caliver to be shoot off \" at they , whereby some be hurt , \n",
      "e land end of England , and so sail to Milford haven , from whence our generali road to the court for order , to what port or haven to conduct the shi\n",
      "e welcome with the like courtesy : which be finish we land : where our generali continue mustering his soldier and miner , and set thing in order appe\n",
      "rate and rover : among who be a man of Briitote . Bristol , on who our generali use his liberality , and send he away with letter into England . but b\n",
      "he coast , at the last we see a place somewhat void of ice , where our generali ( accompany with certain other ) go a shore , where they see certain t\n",
      " , so that we can have no conference or communication with they . Oure generali ( because he will have they no more to flee , but rather encourage the\n",
      " courtesy of to stay through his courteous deal ) give commaunde - our generali . ment that his man shall take nothing away with they , save only a co\n",
      ", and dart . they find likewise certain piece of the pinnace which our generali leave there the year before , which pinnace he have sink , mind to hav\n",
      "y one of our small bark name they the Gabriel . Gabriel be send by our generali to bear in with the land to descry it , where be on land , they meet w\n",
      "d and between the jackmans sound , which prove as we imagine . for our generali scent forth again the Gabriel to discover it , who jackmans pass throu\n",
      " for we , but hurtful to our voyage , we mutual consent to our valiant generali once again , to give the onset . the 28 . day therefore of the same Ju\n",
      "rmenel , the Salomon , and the buss of Bridgewater : which be do , our generali commanded we all to come a shore upon the countess hand , where he set\n",
      " mine , give charge with expedition to dispatch with their lade . Oure generali himself , accompany with his gentleman , diverse time make road into s\n",
      "e in their boat very near to we , as it be to brag at we : whereof our generali have advertisement , send for the captain and gentleman of the ship , \n",
      " find good oar , wherewith they jade themselves , and come to seek the generali : so that now we have all our ship , save one bark , which be lose , a\n",
      "i know not ) forsake our company , and return home without lade . Oure generali accompany with his gentleman , ( of who i speak ) come all together to\n",
      " which we find : but the people we can not find . the next morning our generali perceive certain of they in boat upon the sea , give chase to they in \n",
      "ty . thus time wear away , and the day of our departure approach , our generali command we to lade with all expedition , that we may be again on Seabo\n",
      "cial in dyer sound , which be a calm and still water : which cause our generali to make the more haste , so that by the 30 . day of August we be all l\n",
      "ice - admiral or rearadmiral , or any other ship of our company . Oure generali being on land in bear sound can not come to his ship , but be compel t\n",
      " to Cathaya , by the northwest , under the conduct of Martin Frobisher generali : before which , as a necessary preface be prefix a twofold e discours\n",
      "able . which thing be well consider , and familiar captain know to our generali captain Frobisher , aswell for f ^ uhers that he be thorough furnish o\n",
      "hael be 16 person , whereof five be soldier , the rest mariner . 284 ' generali of the | whole company for her majesty encage Martin Frobisher . his l\n",
      "h time come letter from the lord of the council , straight command our generali , not to exceed his compliment and number appoint he , which be , one \n",
      "black and smooth , do plain declare we be not far off the coast . Oure generali send his master aboard the Michael ( who have be with he the year befo\n",
      "o mare Glaciale or freeze sea , as the opinion hitherto have be . Oure generali prove land here twice , but by the sudden fall of mist ( whereunto thi\n",
      " fleet ice , which give a argument that we be not far from land . Oure generali in the morning from the main top ( the weather be reasonfill . 63 . ] \n",
      " shore as we may for the ice , and upon the eighteenth day of July our generali take the goldfiner with he , attempt to go on shore with a small row p\n",
      "hereabouts find they all to have good store of the ore , whereupon our generali with these good tiding return aboard about ten of the clock at night ,\n",
      " mow of Buis seem great desirous of conference with we : whereupon the generali be therewith better acquaint , answer they again with the like cry , w\n",
      "nest call we back again , follow we almost to our boat : whereupon our generali take his master with he , who be best acquaint with their manner , go \n",
      "ll argument of courtesy , and retain the other for a interpreter . the generali and his master be meet with their two companion together , after they \n",
      "his coat ( which be a chief ornament among they ) and give it unto our generali for a present . but he present upon a watchword give with his master s\n",
      "they so fierce , desperate , and with such fury assault and pursue our generali and his master , be altogether unarm , and not mistrust their subtlety\n",
      ". the english voyage that they chase they to their boat , and hurt the generali in the buttock with a arrow , who the rather speedy flee back , becaus\n",
      "xt morning be the 20 of July , as God will , the storm cease , and the generali espy the ship with his new captive and whole company , come happy aboa\n",
      "at seem a likely harbour gur first come - for our ship , wherefore our generali row thither with his boat , to make proof thereof , and with his goldf\n",
      ", in her wardrobe of robe . Tuesday the three and twenty of July , our generali with his best company of gentleman , soldier and sailor , to the numbe\n",
      "or likelihood of habitation . here diverse of the gentleman desire our generali to suffer they to the number of twenty or thirty person to march up th\n",
      "further for better , and spend time with jeoperdie . and therefore our generali set the miner to work , and show first a good precedent of a painful l\n",
      " our man in the late conflict have take and bring away ; whereupon the generali take the savage captive with he , and set the woman where they may bes\n",
      " to another , and greedy sorrowful for the loss of their friend . Oure generali by sign require his five man which they take captive the last year , a\n",
      "ing calledCatchoe . how he be honour . the english voyage now have the generali alter his determination for go any further into the streite at this ti\n",
      "se of the savage creep behind the rock towards our man , whereupon the generali present return without tiding of his man . concern this bladder which \n",
      "he manner of our proceed . on Wednesday the fourteenth of August , our generali with two small boat well appoint , for that he suspect the country peo\n",
      "ntleman and soldier have great will to encounter they ashore , but the generali moor careful by process of time to win they , then wilful at the first\n",
      " for the discovery of Cataia , by Meta incognita , anno do . 1578 . he generali be return from the second voyage , immediate after his arrival in Engl\n",
      "shall inhabit there the whole year . And be in so good readiness , the generali with all the captain come to the court , then lie at Greenwich , to ta\n",
      "er highness beside other good gift , and great promise , bestow on the generali a fair chain of gold , and the rest of the captain kiss her hand , tak\n",
      "the ship with their several captain . i in the aid be Amirali , be the generali captain Frobisher . 2 in the Thomas Allen vice - admiral York . 3 in t\n",
      "her at Harwich , the seven and twenty day of May anno 1578 , where the generali and the other captain make view , and muster their company . and every\n",
      " and muster their company . and every several captain receive from the generali certain article of direction , for the better keep of order and compan\n",
      " and order to be observe for the fleet , set down by captain Frobisher generali , and deliver in write to every captain , as well for keep company , a\n",
      "t shall repair e to the admiral , to understand such conference as the generali be to have with they . 14 if we chance to meet with any enemy , that f\n",
      "moon , the bark Dennis , and the Gabriel : and four upon my lieutenant generali in the Judith , viz . the hopewel , the armenal , the bear , and the S\n",
      "help themselves with , nor victual to sustain their hungry body . Oure generali , who well understand the office of a soldier and a Englishman , and k\n",
      "d , and find it to be west Frisland , now name west England . here the generali , and other gentleman go ashore , be the first know Christians that we\n",
      "ue notice of , that ever set foot upon that ground : and therefore the generali take possession thereof to the use of our sovereign lady the queen maj\n",
      "ss two of the fleet , that be , the Judith , wherein be the lieutenant generali captain Fenton ; and the Michael , who both we suppose have be utter l\n",
      " pole , and without any clear of light to make perfect the coast , the generali with the captain and master of his ship , begin doubtful to question o\n",
      "eople . the rest of the fleet follow the course of the the coast along generali which lead they the way , pass up above sixty league within the say do\n",
      "eboorde side , and a continuance still of a open sea before they . the generali albeit with the first perchance he find mistake out the error , and th\n",
      "at boat of the country , with twenty person in a piece . now after the generali have bestow these many day here , not without many danger , he return \n",
      " many considerate man . so that some begin privy to murmur against the generali for this wilful manner of 341 proceed . some desire to discover some h\n",
      " hope of safety to seek to pass , and so to perish among the ice . the generali not open his ear to the peevish passion of any private person , but ch\n",
      "e cause he have undertake ( wherein the chief reputation and fame of a generali and captain consist ) and call to his remembrance the short time he ha\n",
      " , as that they can not double the land , follow the 342 course of the generali , who lead they the way , take in their sail , and lay it a hull among\n",
      "e past , we shall have the wind sudden a new blow cold again . 343 the generali recavere th his port . the english voyage in this storm the anne Franc\n",
      "ce , for those they know to be the Michael , wherein be the lieutenant generali captain Fenton , and the small bark call the Gabriel , who so long tim\n",
      "eward within seven day after , if the fleet have not then arrive . the generali after his arrival in the countess sound , spend no time in vain , but \n",
      "his service , it be ordain from her majesty and the council , that the generali shall call unto he certain of the chief captain and gentleman in counc\n",
      " to require it . the first of August every captain by order , from the generali and his council , be command to bring ashore unto the countess hand al\n",
      " countess of Warwick hand with sound of trumpet , certain order by the generali and his council , appoint to be observe of the company during the time\n"
     ]
    }
   ],
   "source": [
    "AMER_col.concordance('generali', 150, 100)\n",
    "#AMER_col.similar('inhabitant')"
   ]
  },
  {
   "cell_type": "code",
   "execution_count": null,
   "id": "f5073bf0-7fea-4eed-a47f-e78fece9e7c8",
   "metadata": {},
   "outputs": [],
   "source": [
    "(indian|savage|indians|canoa|woman|child|sign|interpreter|inhabitant|inhabitants|paracoussy|apparel|grow|inhabit|commodity|plant|yield|america|mexico|guiana|village|peru|negro|brasil|habitation|cevola|cibola|indies|havana|domingo|chili|native|natives)"
   ]
  }
 ],
 "metadata": {
  "kernelspec": {
   "display_name": "Python 3 (ipykernel)",
   "language": "python",
   "name": "python3"
  },
  "language_info": {
   "codemirror_mode": {
    "name": "ipython",
    "version": 3
   },
   "file_extension": ".py",
   "mimetype": "text/x-python",
   "name": "python",
   "nbconvert_exporter": "python",
   "pygments_lexer": "ipython3",
   "version": "3.9.5"
  }
 },
 "nbformat": 4,
 "nbformat_minor": 5
}
