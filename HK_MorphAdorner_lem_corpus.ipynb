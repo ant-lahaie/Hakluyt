{
 "cells": [
  {
   "cell_type": "markdown",
   "id": "f55c7f2d",
   "metadata": {},
   "source": [
    "MorphAdorner command line instruction to do its magic on a folder's contents (adjust depending on your file tree):\n",
    "\n",
    "cd C:\\Users\\apovzner\\Documents\\morphadorner-2.0.1\n",
    "\n",
    "adornplainemetext C:\\Users\\apovzner\\Documents\\Hakluyt\\text-data\\morphadorner-outputs\\CC_ML_FR_trimmed_cleaned_EN_cl_adorned C:\\Users\\apovzner\\Documents\\Hakluyt\\text-data\\CC_ML_FR_trimmed_cleaned_EN_cl\\*.txt"
   ]
  },
  {
   "cell_type": "code",
   "execution_count": 3,
   "id": "3d12ef8c",
   "metadata": {},
   "outputs": [],
   "source": [
    "import os"
   ]
  },
  {
   "cell_type": "code",
   "execution_count": 7,
   "id": "42687597",
   "metadata": {},
   "outputs": [],
   "source": [
    "in_path = 'text-data/morphadorner-outputs/CC_ML_FR_trimmed_cleaned_EN_cl_adorned'\n",
    "out_path = 'text-data/CC_ML_FR_trimmed_cleaned_EN_cl_MAspel'"
   ]
  },
  {
   "cell_type": "code",
   "execution_count": 6,
   "id": "220133bd-984e-4b17-a423-9908662b7ec2",
   "metadata": {},
   "outputs": [],
   "source": [
    "#takes MorphAdorner's output and stitches together a corpus from the lemma column\n",
    "filelist = os.scandir(in_path)\n",
    "for entry in filelist:\n",
    "    if entry.is_file():\n",
    "        with open(entry.path, 'r', encoding=\"utf8\") as f:\n",
    "            new_text = ''\n",
    "            for line in f:\n",
    "                new_text += (line.split()[4] + ' ')\n",
    "            with open((out_path + '/' + entry.name), 'w', encoding=\"utf8\") as fw:\n",
    "                fw.write(new_text)"
   ]
  },
  {
   "cell_type": "code",
   "execution_count": 8,
   "id": "1204a957-8295-484d-ab42-17da3b2e56be",
   "metadata": {},
   "outputs": [],
   "source": [
    "#takes MorphAdorner's output and stitches together a corpus from the normalized spelling column\n",
    "filelist = os.scandir(in_path)\n",
    "for entry in filelist:\n",
    "    if entry.is_file():\n",
    "        with open(entry.path, 'r', encoding=\"utf8\") as f:\n",
    "            new_text = ''\n",
    "            for line in f:\n",
    "                new_text += (line.split()[3] + ' ')\n",
    "            with open((out_path + '/' + entry.name), 'w', encoding=\"utf8\") as fw:\n",
    "                fw.write(new_text)"
   ]
  },
  {
   "cell_type": "code",
   "execution_count": 3,
   "id": "3289e014",
   "metadata": {},
   "outputs": [],
   "source": [
    "# replace spaces and %20's with underscores for my comparison texts\n",
    "filelist = os.scandir(in_path)\n",
    "for entry in filelist:\n",
    "    if entry.is_file():\n",
    "        with open(entry.path, 'r', encoding=\"utf8\") as f:\n",
    "            text = f.read()\n",
    "            name = entry.name.replace(' ', '_')\n",
    "            name = name.replace(r'%20', '_')\n",
    "            with open((in_path + '/' + name), 'w', encoding=\"utf8\") as fw:\n",
    "                fw.write(text)"
   ]
  },
  {
   "cell_type": "code",
   "execution_count": null,
   "id": "ac79d500",
   "metadata": {},
   "outputs": [],
   "source": []
  }
 ],
 "metadata": {
  "kernelspec": {
   "display_name": "Python 3 (ipykernel)",
   "language": "python",
   "name": "python3"
  },
  "language_info": {
   "codemirror_mode": {
    "name": "ipython",
    "version": 3
   },
   "file_extension": ".py",
   "mimetype": "text/x-python",
   "name": "python",
   "nbconvert_exporter": "python",
   "pygments_lexer": "ipython3",
   "version": "3.9.5"
  }
 },
 "nbformat": 4,
 "nbformat_minor": 5
}
